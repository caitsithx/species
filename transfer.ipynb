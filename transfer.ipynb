{
 "cells": [
  {
   "cell_type": "code",
   "execution_count": 28,
   "metadata": {
    "collapsed": false
   },
   "outputs": [],
   "source": [
    "from keras.applications.vgg16 import VGG16\n",
    "from keras.preprocessing import image\n",
    "from keras.preprocessing.image import ImageDataGenerator\n",
    "from keras.applications.vgg16 import preprocess_input\n",
    "import keras as k\n",
    "from keras.models import Sequential, Model\n",
    "from keras.layers import Dense, Dropout, Flatten\n",
    "from keras.layers import Conv2D, MaxPooling2D\n",
    "from keras.callbacks import EarlyStopping, ModelCheckpoint\n",
    "from keras.optimizers import SGD, RMSprop, Adam\n",
    "from keras.layers.normalization import BatchNormalization\n",
    "\n",
    "import numpy as np\n",
    "import pandas as pd\n",
    "import cv2\n",
    "import shutil\n",
    "from matplotlib import pyplot as plt\n",
    "from tqdm import tqdm"
   ]
  },
  {
   "cell_type": "code",
   "execution_count": 33,
   "metadata": {
    "collapsed": true
   },
   "outputs": [],
   "source": [
    "DATA_DIR = '/home/chicm/ml/kgdata/species'\n",
    "RESULT_DIR = DATA_DIR + '/results'\n",
    "\n",
    "TRAIN_FEAT = RESULT_DIR + '/train_feats.dat'\n",
    "VAL_FEAT = RESULT_DIR + '/val_feats.dat'\n",
    "\n",
    "TRAIN_DIR = DATA_DIR + '/train-224'\n",
    "VAL_DIR = DATA_DIR + '/val-224'\n",
    "\n",
    "batch_size = 64"
   ]
  },
  {
   "cell_type": "code",
   "execution_count": 4,
   "metadata": {
    "collapsed": false
   },
   "outputs": [],
   "source": [
    "df_train = pd.read_csv(DATA_DIR+'/train_labels.csv')"
   ]
  },
  {
   "cell_type": "markdown",
   "metadata": {},
   "source": [
    "## create validation data"
   ]
  },
  {
   "cell_type": "code",
   "execution_count": 6,
   "metadata": {
    "collapsed": false
   },
   "outputs": [
    {
     "name": "stdout",
     "output_type": "stream",
     "text": [
      "2295\n",
      "[1, 2, 3, 4, 5, 6, 7, 8, 9, 10]\n"
     ]
    }
   ],
   "source": [
    "f_dict = {row[0]: row[1] for i, row in enumerate(df_train.values)}\n",
    "fnames = [row[0] for i, row in enumerate(df_train.values)]\n",
    "print(len(f_dict))\n",
    "print(fnames[:10])\n"
   ]
  },
  {
   "cell_type": "code",
   "execution_count": 9,
   "metadata": {
    "collapsed": false
   },
   "outputs": [
    {
     "name": "stdout",
     "output_type": "stream",
     "text": [
      "847\n",
      "1448\n"
     ]
    }
   ],
   "source": [
    "print(len([row[1] for i, row in enumerate(df_train.values) if row[1] == 0]))\n",
    "print(len([row[1] for i, row in enumerate(df_train.values) if row[1] == 1]))"
   ]
  },
  {
   "cell_type": "code",
   "execution_count": 14,
   "metadata": {
    "collapsed": false
   },
   "outputs": [],
   "source": [
    "for f in fnames:\n",
    "    cls = f_dict[f]\n",
    "    src = TRAIN_DIR + '/' + str(f) + '.jpg'\n",
    "    dst = TRAIN_DIR + '/' + str(cls) + '/' + str(f) + '.jpg'\n",
    "    shutil.move(src, dst)"
   ]
  },
  {
   "cell_type": "code",
   "execution_count": 17,
   "metadata": {
    "collapsed": false
   },
   "outputs": [],
   "source": [
    "fnames = np.random.permutation(fnames)\n",
    "for i in range(350):\n",
    "    cls = f_dict[fnames[i]]\n",
    "    fn     = TRAIN_DIR +'/' + str(cls) + '/' + str(fnames[i])+'.jpg'\n",
    "    tgt_fn = VAL_DIR   +'/' + str(cls) + '/' + str(fnames[i])+'.jpg'\n",
    "    shutil.move(fn, tgt_fn)"
   ]
  },
  {
   "cell_type": "markdown",
   "metadata": {},
   "source": [
    "## build pretrained model"
   ]
  },
  {
   "cell_type": "code",
   "execution_count": 25,
   "metadata": {
    "collapsed": false
   },
   "outputs": [],
   "source": [
    "vgg_model = VGG16(weights='imagenet', include_top=False, input_shape=(224,224,3))"
   ]
  },
  {
   "cell_type": "code",
   "execution_count": null,
   "metadata": {
    "collapsed": false
   },
   "outputs": [],
   "source": []
  },
  {
   "cell_type": "code",
   "execution_count": 29,
   "metadata": {
    "collapsed": false
   },
   "outputs": [],
   "source": [
    "# build a classifier model to put on top of the convolutional model\n",
    "top_model = Sequential()\n",
    "top_model.add(Flatten(input_shape=(7,7,512)))\n",
    "top_model.add(Dense(256, activation='relu'))\n",
    "top_model.add(Dropout(0.5))\n",
    "top_model.add(Dense(1, activation='sigmoid'))\n",
    "\n",
    "#model.add(top_model)\n",
    "model = Model(inputs=vgg_model.input, outputs=top_model(vgg_model.output))"
   ]
  },
  {
   "cell_type": "code",
   "execution_count": 30,
   "metadata": {
    "collapsed": true
   },
   "outputs": [],
   "source": [
    "for layer in model.layers[:25]:\n",
    "    layer.trainable = False"
   ]
  },
  {
   "cell_type": "code",
   "execution_count": 32,
   "metadata": {
    "collapsed": false
   },
   "outputs": [],
   "source": [
    "model.compile(Adam(), loss='binary_crossentropy', metrics=['accuracy'])"
   ]
  },
  {
   "cell_type": "code",
   "execution_count": null,
   "metadata": {
    "collapsed": true
   },
   "outputs": [],
   "source": []
  },
  {
   "cell_type": "code",
   "execution_count": 34,
   "metadata": {
    "collapsed": true
   },
   "outputs": [],
   "source": [
    "train_datagen = ImageDataGenerator(\n",
    "    rescale=1. / 255,\n",
    "    shear_range=0.2,\n",
    "    zoom_range=0.2,\n",
    "    horizontal_flip=True)"
   ]
  },
  {
   "cell_type": "code",
   "execution_count": 35,
   "metadata": {
    "collapsed": true
   },
   "outputs": [],
   "source": [
    "test_datagen = ImageDataGenerator(rescale=1. / 255)"
   ]
  },
  {
   "cell_type": "code",
   "execution_count": 36,
   "metadata": {
    "collapsed": false
   },
   "outputs": [
    {
     "name": "stdout",
     "output_type": "stream",
     "text": [
      "Found 1945 images belonging to 2 classes.\n"
     ]
    }
   ],
   "source": [
    "train_generator = train_datagen.flow_from_directory(\n",
    "    TRAIN_DIR,\n",
    "    target_size=(224, 224),\n",
    "    batch_size=batch_size,\n",
    "    class_mode='binary')"
   ]
  },
  {
   "cell_type": "code",
   "execution_count": 40,
   "metadata": {
    "collapsed": false
   },
   "outputs": [
    {
     "name": "stdout",
     "output_type": "stream",
     "text": [
      "1945\n",
      "1945\n"
     ]
    }
   ],
   "source": [
    "print(train_generator.n)\n",
    "print(train_generator.samples)"
   ]
  },
  {
   "cell_type": "code",
   "execution_count": 37,
   "metadata": {
    "collapsed": false
   },
   "outputs": [
    {
     "name": "stdout",
     "output_type": "stream",
     "text": [
      "Found 350 images belonging to 2 classes.\n"
     ]
    }
   ],
   "source": [
    "validation_generator = test_datagen.flow_from_directory(\n",
    "    VAL_DIR,\n",
    "    target_size=(224, 224),\n",
    "    batch_size=batch_size,\n",
    "    class_mode='binary')"
   ]
  },
  {
   "cell_type": "code",
   "execution_count": 43,
   "metadata": {
    "collapsed": false
   },
   "outputs": [
    {
     "name": "stdout",
     "output_type": "stream",
     "text": [
      "Epoch 1/50\n",
      "12s - loss: 0.8021 - acc: 0.5160 - val_loss: 0.6967 - val_acc: 0.5385\n",
      "Epoch 2/50\n",
      "11s - loss: 0.8208 - acc: 0.4923 - val_loss: 0.6955 - val_acc: 0.5219\n",
      "Epoch 3/50\n",
      "11s - loss: 0.8057 - acc: 0.5085 - val_loss: 0.7009 - val_acc: 0.4755\n",
      "Epoch 4/50\n",
      "11s - loss: 0.8037 - acc: 0.4996 - val_loss: 0.6970 - val_acc: 0.5315\n",
      "Epoch 5/50\n",
      "11s - loss: 0.8136 - acc: 0.4905 - val_loss: 0.6909 - val_acc: 0.5315\n",
      "Epoch 6/50\n",
      "11s - loss: 0.8203 - acc: 0.4801 - val_loss: 0.6995 - val_acc: 0.5105\n",
      "Epoch 7/50\n",
      "11s - loss: 0.8204 - acc: 0.4881 - val_loss: 0.6966 - val_acc: 0.5156\n",
      "Epoch 8/50\n"
     ]
    },
    {
     "ename": "KeyboardInterrupt",
     "evalue": "",
     "output_type": "error",
     "traceback": [
      "\u001b[0;31m---------------------------------------------------------------------------\u001b[0m",
      "\u001b[0;31mKeyboardInterrupt\u001b[0m                         Traceback (most recent call last)",
      "\u001b[0;32m<ipython-input-43-3ab2b0d9fa9b>\u001b[0m in \u001b[0;36m<module>\u001b[0;34m()\u001b[0m\n\u001b[1;32m      6\u001b[0m     \u001b[0mvalidation_data\u001b[0m\u001b[0;34m=\u001b[0m\u001b[0mvalidation_generator\u001b[0m\u001b[0;34m,\u001b[0m\u001b[0;34m\u001b[0m\u001b[0m\n\u001b[1;32m      7\u001b[0m     \u001b[0mvalidation_steps\u001b[0m\u001b[0;34m=\u001b[0m\u001b[0mvalidation_generator\u001b[0m\u001b[0;34m.\u001b[0m\u001b[0mn\u001b[0m\u001b[0;34m//\u001b[0m\u001b[0mbatch_size\u001b[0m\u001b[0;34m,\u001b[0m\u001b[0;34m\u001b[0m\u001b[0m\n\u001b[0;32m----> 8\u001b[0;31m     verbose=2)\n\u001b[0m",
      "\u001b[0;32m/home/chicm/anaconda3/lib/python3.6/site-packages/keras/legacy/interfaces.py\u001b[0m in \u001b[0;36mwrapper\u001b[0;34m(*args, **kwargs)\u001b[0m\n\u001b[1;32m     86\u001b[0m                 warnings.warn('Update your `' + object_name +\n\u001b[1;32m     87\u001b[0m                               '` call to the Keras 2 API: ' + signature, stacklevel=2)\n\u001b[0;32m---> 88\u001b[0;31m             \u001b[0;32mreturn\u001b[0m \u001b[0mfunc\u001b[0m\u001b[0;34m(\u001b[0m\u001b[0;34m*\u001b[0m\u001b[0margs\u001b[0m\u001b[0;34m,\u001b[0m \u001b[0;34m**\u001b[0m\u001b[0mkwargs\u001b[0m\u001b[0;34m)\u001b[0m\u001b[0;34m\u001b[0m\u001b[0m\n\u001b[0m\u001b[1;32m     89\u001b[0m         \u001b[0mwrapper\u001b[0m\u001b[0;34m.\u001b[0m\u001b[0m_legacy_support_signature\u001b[0m \u001b[0;34m=\u001b[0m \u001b[0minspect\u001b[0m\u001b[0;34m.\u001b[0m\u001b[0mgetargspec\u001b[0m\u001b[0;34m(\u001b[0m\u001b[0mfunc\u001b[0m\u001b[0;34m)\u001b[0m\u001b[0;34m\u001b[0m\u001b[0m\n\u001b[1;32m     90\u001b[0m         \u001b[0;32mreturn\u001b[0m \u001b[0mwrapper\u001b[0m\u001b[0;34m\u001b[0m\u001b[0m\n",
      "\u001b[0;32m/home/chicm/anaconda3/lib/python3.6/site-packages/keras/engine/training.py\u001b[0m in \u001b[0;36mfit_generator\u001b[0;34m(self, generator, steps_per_epoch, epochs, verbose, callbacks, validation_data, validation_steps, class_weight, max_q_size, workers, pickle_safe, initial_epoch)\u001b[0m\n\u001b[1;32m   1843\u001b[0m                             \u001b[0;32mbreak\u001b[0m\u001b[0;34m\u001b[0m\u001b[0m\n\u001b[1;32m   1844\u001b[0m                         \u001b[0;32melse\u001b[0m\u001b[0;34m:\u001b[0m\u001b[0;34m\u001b[0m\u001b[0m\n\u001b[0;32m-> 1845\u001b[0;31m                             \u001b[0mtime\u001b[0m\u001b[0;34m.\u001b[0m\u001b[0msleep\u001b[0m\u001b[0;34m(\u001b[0m\u001b[0mwait_time\u001b[0m\u001b[0;34m)\u001b[0m\u001b[0;34m\u001b[0m\u001b[0m\n\u001b[0m\u001b[1;32m   1846\u001b[0m \u001b[0;34m\u001b[0m\u001b[0m\n\u001b[1;32m   1847\u001b[0m                     \u001b[0;32mif\u001b[0m \u001b[0;32mnot\u001b[0m \u001b[0mhasattr\u001b[0m\u001b[0;34m(\u001b[0m\u001b[0mgenerator_output\u001b[0m\u001b[0;34m,\u001b[0m \u001b[0;34m'__len__'\u001b[0m\u001b[0;34m)\u001b[0m\u001b[0;34m:\u001b[0m\u001b[0;34m\u001b[0m\u001b[0m\n",
      "\u001b[0;31mKeyboardInterrupt\u001b[0m: "
     ]
    }
   ],
   "source": [
    "epochs = 50\n",
    "model.fit_generator(\n",
    "    train_generator,\n",
    "    steps_per_epoch=train_generator.n//batch_size,\n",
    "    epochs=epochs,\n",
    "    validation_data=validation_generator,\n",
    "    validation_steps=validation_generator.n//batch_size,\n",
    "    verbose=2)"
   ]
  },
  {
   "cell_type": "code",
   "execution_count": 52,
   "metadata": {
    "collapsed": false
   },
   "outputs": [],
   "source": [
    "def create_model():\n",
    "    conv_layers = [\n",
    "        Conv2D(24,(3,3), activation='relu',input_shape=(224,224,3)),\n",
    "        BatchNormalization(axis=-1),\n",
    "        MaxPooling2D((2, 2), strides=(2, 2)),\n",
    "\n",
    "        Conv2D(24,(3,3), activation='relu'),\n",
    "        BatchNormalization(axis=-1),\n",
    "        MaxPooling2D((2, 2), strides=(2, 2)),\n",
    "\n",
    "        Conv2D(48,(3,3), activation='relu'),\n",
    "        BatchNormalization(axis=-1),\n",
    "        MaxPooling2D((2, 2), strides=(2, 2)),\n",
    "\n",
    "        Conv2D(48,(3,3), activation='relu'),\n",
    "        BatchNormalization(axis=-1),\n",
    "        MaxPooling2D((2, 2), strides=(2, 2)),\n",
    "        \n",
    "        Flatten(),\n",
    "        \n",
    "        Dropout(0.25),\n",
    "        Dense(128, activation='relu'),\n",
    "        BatchNormalization(),\n",
    "        Dropout(0.5),\n",
    "        Dense(128, activation='relu'),\n",
    "        BatchNormalization(),\n",
    "        Dropout(0.5),\n",
    "        Dense(1, activation='softmax')\n",
    "    ]\n",
    "    #print conv_layers\n",
    "    model = Sequential(conv_layers)\n",
    "    model.compile(Adam(), loss = 'binary_crossentropy', metrics=['accuracy'])\n",
    "    \n",
    "    return model"
   ]
  },
  {
   "cell_type": "code",
   "execution_count": 53,
   "metadata": {
    "collapsed": false
   },
   "outputs": [
    {
     "name": "stdout",
     "output_type": "stream",
     "text": [
      "Epoch 1/50\n",
      "13s - loss: 5.9748 - acc: 0.6252 - val_loss: 6.0759 - val_acc: 0.6189\n",
      "Epoch 2/50\n",
      "11s - loss: 5.7836 - acc: 0.6372 - val_loss: 6.4661 - val_acc: 0.5944\n",
      "Epoch 3/50\n",
      "11s - loss: 5.8003 - acc: 0.6362 - val_loss: 6.2989 - val_acc: 0.6049\n",
      "Epoch 4/50\n",
      "11s - loss: 5.7959 - acc: 0.6364 - val_loss: 5.8530 - val_acc: 0.6329\n",
      "Epoch 5/50\n",
      "12s - loss: 5.8289 - acc: 0.6344 - val_loss: 6.4104 - val_acc: 0.5979\n",
      "Epoch 6/50\n",
      "11s - loss: 5.8293 - acc: 0.6344 - val_loss: 5.6857 - val_acc: 0.6434\n",
      "Epoch 7/50\n",
      "12s - loss: 5.8378 - acc: 0.6338 - val_loss: 6.0202 - val_acc: 0.6224\n",
      "Epoch 8/50\n"
     ]
    },
    {
     "ename": "KeyboardInterrupt",
     "evalue": "",
     "output_type": "error",
     "traceback": [
      "\u001b[0;31m---------------------------------------------------------------------------\u001b[0m",
      "\u001b[0;31mKeyboardInterrupt\u001b[0m                         Traceback (most recent call last)",
      "\u001b[0;32m<ipython-input-53-48f91af6b8ee>\u001b[0m in \u001b[0;36m<module>\u001b[0;34m()\u001b[0m\n\u001b[1;32m      7\u001b[0m     \u001b[0mvalidation_data\u001b[0m\u001b[0;34m=\u001b[0m\u001b[0mvalidation_generator\u001b[0m\u001b[0;34m,\u001b[0m\u001b[0;34m\u001b[0m\u001b[0m\n\u001b[1;32m      8\u001b[0m     \u001b[0mvalidation_steps\u001b[0m\u001b[0;34m=\u001b[0m\u001b[0mvalidation_generator\u001b[0m\u001b[0;34m.\u001b[0m\u001b[0mn\u001b[0m\u001b[0;34m//\u001b[0m\u001b[0mbatch_size\u001b[0m\u001b[0;34m,\u001b[0m\u001b[0;34m\u001b[0m\u001b[0m\n\u001b[0;32m----> 9\u001b[0;31m     verbose=2)\n\u001b[0m",
      "\u001b[0;32m/home/chicm/anaconda3/lib/python3.6/site-packages/keras/legacy/interfaces.py\u001b[0m in \u001b[0;36mwrapper\u001b[0;34m(*args, **kwargs)\u001b[0m\n\u001b[1;32m     86\u001b[0m                 warnings.warn('Update your `' + object_name +\n\u001b[1;32m     87\u001b[0m                               '` call to the Keras 2 API: ' + signature, stacklevel=2)\n\u001b[0;32m---> 88\u001b[0;31m             \u001b[0;32mreturn\u001b[0m \u001b[0mfunc\u001b[0m\u001b[0;34m(\u001b[0m\u001b[0;34m*\u001b[0m\u001b[0margs\u001b[0m\u001b[0;34m,\u001b[0m \u001b[0;34m**\u001b[0m\u001b[0mkwargs\u001b[0m\u001b[0;34m)\u001b[0m\u001b[0;34m\u001b[0m\u001b[0m\n\u001b[0m\u001b[1;32m     89\u001b[0m         \u001b[0mwrapper\u001b[0m\u001b[0;34m.\u001b[0m\u001b[0m_legacy_support_signature\u001b[0m \u001b[0;34m=\u001b[0m \u001b[0minspect\u001b[0m\u001b[0;34m.\u001b[0m\u001b[0mgetargspec\u001b[0m\u001b[0;34m(\u001b[0m\u001b[0mfunc\u001b[0m\u001b[0;34m)\u001b[0m\u001b[0;34m\u001b[0m\u001b[0m\n\u001b[1;32m     90\u001b[0m         \u001b[0;32mreturn\u001b[0m \u001b[0mwrapper\u001b[0m\u001b[0;34m\u001b[0m\u001b[0m\n",
      "\u001b[0;32m/home/chicm/anaconda3/lib/python3.6/site-packages/keras/models.py\u001b[0m in \u001b[0;36mfit_generator\u001b[0;34m(self, generator, steps_per_epoch, epochs, verbose, callbacks, validation_data, validation_steps, class_weight, max_q_size, workers, pickle_safe, initial_epoch)\u001b[0m\n\u001b[1;32m   1095\u001b[0m                                         \u001b[0mworkers\u001b[0m\u001b[0;34m=\u001b[0m\u001b[0mworkers\u001b[0m\u001b[0;34m,\u001b[0m\u001b[0;34m\u001b[0m\u001b[0m\n\u001b[1;32m   1096\u001b[0m                                         \u001b[0mpickle_safe\u001b[0m\u001b[0;34m=\u001b[0m\u001b[0mpickle_safe\u001b[0m\u001b[0;34m,\u001b[0m\u001b[0;34m\u001b[0m\u001b[0m\n\u001b[0;32m-> 1097\u001b[0;31m                                         initial_epoch=initial_epoch)\n\u001b[0m\u001b[1;32m   1098\u001b[0m \u001b[0;34m\u001b[0m\u001b[0m\n\u001b[1;32m   1099\u001b[0m     \u001b[0;34m@\u001b[0m\u001b[0minterfaces\u001b[0m\u001b[0;34m.\u001b[0m\u001b[0mlegacy_generator_methods_support\u001b[0m\u001b[0;34m\u001b[0m\u001b[0m\n",
      "\u001b[0;32m/home/chicm/anaconda3/lib/python3.6/site-packages/keras/legacy/interfaces.py\u001b[0m in \u001b[0;36mwrapper\u001b[0;34m(*args, **kwargs)\u001b[0m\n\u001b[1;32m     86\u001b[0m                 warnings.warn('Update your `' + object_name +\n\u001b[1;32m     87\u001b[0m                               '` call to the Keras 2 API: ' + signature, stacklevel=2)\n\u001b[0;32m---> 88\u001b[0;31m             \u001b[0;32mreturn\u001b[0m \u001b[0mfunc\u001b[0m\u001b[0;34m(\u001b[0m\u001b[0;34m*\u001b[0m\u001b[0margs\u001b[0m\u001b[0;34m,\u001b[0m \u001b[0;34m**\u001b[0m\u001b[0mkwargs\u001b[0m\u001b[0;34m)\u001b[0m\u001b[0;34m\u001b[0m\u001b[0m\n\u001b[0m\u001b[1;32m     89\u001b[0m         \u001b[0mwrapper\u001b[0m\u001b[0;34m.\u001b[0m\u001b[0m_legacy_support_signature\u001b[0m \u001b[0;34m=\u001b[0m \u001b[0minspect\u001b[0m\u001b[0;34m.\u001b[0m\u001b[0mgetargspec\u001b[0m\u001b[0;34m(\u001b[0m\u001b[0mfunc\u001b[0m\u001b[0;34m)\u001b[0m\u001b[0;34m\u001b[0m\u001b[0m\n\u001b[1;32m     90\u001b[0m         \u001b[0;32mreturn\u001b[0m \u001b[0mwrapper\u001b[0m\u001b[0;34m\u001b[0m\u001b[0m\n",
      "\u001b[0;32m/home/chicm/anaconda3/lib/python3.6/site-packages/keras/engine/training.py\u001b[0m in \u001b[0;36mfit_generator\u001b[0;34m(self, generator, steps_per_epoch, epochs, verbose, callbacks, validation_data, validation_steps, class_weight, max_q_size, workers, pickle_safe, initial_epoch)\u001b[0m\n\u001b[1;32m   1843\u001b[0m                             \u001b[0;32mbreak\u001b[0m\u001b[0;34m\u001b[0m\u001b[0m\n\u001b[1;32m   1844\u001b[0m                         \u001b[0;32melse\u001b[0m\u001b[0;34m:\u001b[0m\u001b[0;34m\u001b[0m\u001b[0m\n\u001b[0;32m-> 1845\u001b[0;31m                             \u001b[0mtime\u001b[0m\u001b[0;34m.\u001b[0m\u001b[0msleep\u001b[0m\u001b[0;34m(\u001b[0m\u001b[0mwait_time\u001b[0m\u001b[0;34m)\u001b[0m\u001b[0;34m\u001b[0m\u001b[0m\n\u001b[0m\u001b[1;32m   1846\u001b[0m \u001b[0;34m\u001b[0m\u001b[0m\n\u001b[1;32m   1847\u001b[0m                     \u001b[0;32mif\u001b[0m \u001b[0;32mnot\u001b[0m \u001b[0mhasattr\u001b[0m\u001b[0;34m(\u001b[0m\u001b[0mgenerator_output\u001b[0m\u001b[0;34m,\u001b[0m \u001b[0;34m'__len__'\u001b[0m\u001b[0;34m)\u001b[0m\u001b[0;34m:\u001b[0m\u001b[0;34m\u001b[0m\u001b[0m\n",
      "\u001b[0;31mKeyboardInterrupt\u001b[0m: "
     ]
    }
   ],
   "source": [
    "epochs = 50\n",
    "model2 = create_model()\n",
    "model2.fit_generator(\n",
    "    train_generator,\n",
    "    steps_per_epoch=train_generator.n//batch_size,\n",
    "    epochs=epochs,\n",
    "    validation_data=validation_generator,\n",
    "    validation_steps=validation_generator.n//batch_size,\n",
    "    verbose=2)"
   ]
  },
  {
   "cell_type": "code",
   "execution_count": 54,
   "metadata": {
    "collapsed": false
   },
   "outputs": [
    {
     "name": "stderr",
     "output_type": "stream",
     "text": [
      "2295it [00:46, 49.14it/s]\n"
     ]
    },
    {
     "name": "stdout",
     "output_type": "stream",
     "text": [
      "(2295, 224, 224, 3)\n",
      "(2295, 1)\n"
     ]
    }
   ],
   "source": [
    "x_train = []\n",
    "y_train = []\n",
    "for i, row in tqdm(enumerate(df_train.values)):\n",
    "    fn = DATA_DIR+'/train/' + str(row[0])+'.jpg'\n",
    "    x_train.append(cv2.resize(cv2.imread(fn), (224,224)))\n",
    "    y_train.append([row[1]])\n",
    "x_train = np.array(x_train, np.float32)\n",
    "y_train = np.array(y_train, np.uint8)\n",
    "print(x_train.shape)\n",
    "print(y_train.shape)"
   ]
  },
  {
   "cell_type": "code",
   "execution_count": 55,
   "metadata": {
    "collapsed": false
   },
   "outputs": [
    {
     "name": "stdout",
     "output_type": "stream",
     "text": [
      "(1950, 224, 224, 3)\n",
      "(345, 224, 224, 3)\n",
      "(1950, 1)\n",
      "(345, 1)\n"
     ]
    }
   ],
   "source": [
    "split = int(x_train.shape[0] * 0.85)\n",
    "\n",
    "x_val = x_train[split:]\n",
    "y_val = y_train[split:]\n",
    "x_train = x_train[:split]\n",
    "y_train = y_train[:split]\n",
    "print(x_train.shape)\n",
    "print(x_val.shape)\n",
    "print(y_train.shape)\n",
    "print(y_val.shape)"
   ]
  },
  {
   "cell_type": "code",
   "execution_count": 28,
   "metadata": {
    "collapsed": false
   },
   "outputs": [
    {
     "name": "stdout",
     "output_type": "stream",
     "text": [
      "30\n",
      "5\n"
     ]
    }
   ],
   "source": [
    "train_steps = x_train.shape[0] // batch_size\n",
    "x_train = x_train[:train_steps*batch_size]\n",
    "y_train = y_train[:train_steps*batch_size]\n",
    "val_steps = x_val.shape[0] // batch_size\n",
    "x_val = x_val[:val_steps*batch_size]\n",
    "y_val = y_val[:val_steps*batch_size]\n",
    "print(train_steps)\n",
    "print(val_steps)"
   ]
  },
  {
   "cell_type": "code",
   "execution_count": 56,
   "metadata": {
    "collapsed": true
   },
   "outputs": [],
   "source": [
    "model = VGG16(weights='imagenet', include_top=False)"
   ]
  },
  {
   "cell_type": "code",
   "execution_count": 30,
   "metadata": {
    "collapsed": false
   },
   "outputs": [],
   "source": [
    "datagen = ImageDataGenerator(\n",
    "        rotation_range=45,\n",
    "        width_shift_range=0.1,\n",
    "        height_shift_range=0.1,\n",
    "        rescale=1./255,\n",
    "        shear_range=0.2,\n",
    "        zoom_range=0.2,\n",
    "        horizontal_flip=True,\n",
    "        vertical_flip = True)"
   ]
  },
  {
   "cell_type": "code",
   "execution_count": 44,
   "metadata": {
    "collapsed": false
   },
   "outputs": [
    {
     "name": "stdout",
     "output_type": "stream",
     "text": [
      "(1920, 224, 224, 3)\n",
      "(320, 224, 224, 3)\n"
     ]
    }
   ],
   "source": [
    "print(x_train.shape)\n",
    "print(x_val.shape)"
   ]
  },
  {
   "cell_type": "code",
   "execution_count": 32,
   "metadata": {
    "collapsed": false
   },
   "outputs": [],
   "source": [
    "train_feat = model.predict_generator(datagen.flow(x_train, batch_size=batch_size, shuffle=False), \n",
    "                                     steps = train_steps*8) "
   ]
  },
  {
   "cell_type": "code",
   "execution_count": 57,
   "metadata": {
    "collapsed": false
   },
   "outputs": [],
   "source": [
    "#val_feat = model.predict_generator(datagen.flow(x_val, batch_size=batch_size, shuffle=False), \n",
    " #steps = val_steps) \n",
    "train_feat = model.predict(x_train)\n",
    "val_feat = model.predict(x_val)"
   ]
  },
  {
   "cell_type": "code",
   "execution_count": 58,
   "metadata": {
    "collapsed": false
   },
   "outputs": [
    {
     "name": "stdout",
     "output_type": "stream",
     "text": [
      "(1950, 7, 7, 512)\n",
      "(345, 7, 7, 512)\n"
     ]
    }
   ],
   "source": [
    "print(train_feat.shape)\n",
    "print(val_feat.shape)"
   ]
  },
  {
   "cell_type": "code",
   "execution_count": 59,
   "metadata": {
    "collapsed": true
   },
   "outputs": [],
   "source": [
    "import bcolz\n",
    "\n",
    "def save_array(fname, arr):\n",
    "    c=bcolz.carray(arr, rootdir=fname, mode='w')\n",
    "    c.flush()\n",
    "def load_array(fname):\n",
    "    return bcolz.open(fname)[:]"
   ]
  },
  {
   "cell_type": "code",
   "execution_count": 60,
   "metadata": {
    "collapsed": false
   },
   "outputs": [],
   "source": [
    "save_array(TRAIN_FEAT, train_feat)\n",
    "save_array(VAL_FEAT, val_feat)"
   ]
  },
  {
   "cell_type": "code",
   "execution_count": 61,
   "metadata": {
    "collapsed": false
   },
   "outputs": [
    {
     "name": "stdout",
     "output_type": "stream",
     "text": [
      "(1950, 7, 7, 512)\n",
      "(345, 7, 7, 512)\n"
     ]
    }
   ],
   "source": [
    "print(train_feat.shape)\n",
    "print(val_feat.shape)"
   ]
  },
  {
   "cell_type": "code",
   "execution_count": 62,
   "metadata": {
    "collapsed": true
   },
   "outputs": [],
   "source": [
    "def get_layers(input_shape):\n",
    "    return [\n",
    "        Flatten(input_shape=input_shape),\n",
    "        Dropout(0.4),\n",
    "        Dense(256, activation='relu'),\n",
    "        BatchNormalization(),\n",
    "        Dropout(0.5),\n",
    "        Dense(256, activation='relu'),\n",
    "        BatchNormalization(),\n",
    "        Dropout(0.6),\n",
    "        Dense(1, activation='sigmoid')\n",
    "    ]\n",
    "\n",
    "def get_model(input_shape):\n",
    "    model = Sequential(get_layers(input_shape))\n",
    "    model.compile(Adam(), loss = 'binary_crossentropy', metrics=['accuracy'])\n",
    "    return model"
   ]
  },
  {
   "cell_type": "code",
   "execution_count": 63,
   "metadata": {
    "collapsed": true
   },
   "outputs": [],
   "source": [
    "dense_model = get_model(train_feat.shape[1:])"
   ]
  },
  {
   "cell_type": "code",
   "execution_count": 64,
   "metadata": {
    "collapsed": false
   },
   "outputs": [
    {
     "name": "stdout",
     "output_type": "stream",
     "text": [
      "Train on 1950 samples, validate on 345 samples\n",
      "Epoch 1/50\n",
      "1s - loss: 0.5180 - acc: 0.7892 - val_loss: 0.3515 - val_acc: 0.8986\n",
      "Epoch 2/50\n",
      "0s - loss: 0.2507 - acc: 0.9000 - val_loss: 0.2008 - val_acc: 0.9391\n",
      "Epoch 3/50\n",
      "0s - loss: 0.1702 - acc: 0.9344 - val_loss: 0.2712 - val_acc: 0.9246\n",
      "Epoch 4/50\n",
      "0s - loss: 0.1175 - acc: 0.9559 - val_loss: 0.1826 - val_acc: 0.9333\n",
      "Epoch 5/50\n",
      "0s - loss: 0.0794 - acc: 0.9697 - val_loss: 0.2345 - val_acc: 0.9217\n",
      "Epoch 6/50\n",
      "0s - loss: 0.0673 - acc: 0.9769 - val_loss: 0.2085 - val_acc: 0.9246\n",
      "Epoch 7/50\n",
      "0s - loss: 0.0634 - acc: 0.9764 - val_loss: 0.2127 - val_acc: 0.9217\n",
      "Epoch 8/50\n",
      "0s - loss: 0.0434 - acc: 0.9851 - val_loss: 0.2152 - val_acc: 0.9304\n",
      "Epoch 9/50\n",
      "0s - loss: 0.0558 - acc: 0.9831 - val_loss: 0.1870 - val_acc: 0.9449\n",
      "Epoch 10/50\n",
      "0s - loss: 0.0464 - acc: 0.9800 - val_loss: 0.1804 - val_acc: 0.9333\n",
      "Epoch 11/50\n",
      "0s - loss: 0.0407 - acc: 0.9846 - val_loss: 0.2482 - val_acc: 0.9333\n",
      "Epoch 12/50\n",
      "0s - loss: 0.0375 - acc: 0.9856 - val_loss: 0.2167 - val_acc: 0.9333\n",
      "Epoch 13/50\n",
      "0s - loss: 0.0409 - acc: 0.9862 - val_loss: 0.2987 - val_acc: 0.9275\n",
      "Epoch 14/50\n",
      "0s - loss: 0.0430 - acc: 0.9841 - val_loss: 0.3403 - val_acc: 0.9246\n",
      "Epoch 15/50\n",
      "0s - loss: 0.0409 - acc: 0.9867 - val_loss: 0.3289 - val_acc: 0.9130\n",
      "Epoch 16/50\n",
      "0s - loss: 0.0346 - acc: 0.9877 - val_loss: 0.2558 - val_acc: 0.9246\n",
      "Epoch 17/50\n",
      "0s - loss: 0.0282 - acc: 0.9913 - val_loss: 0.2379 - val_acc: 0.9246\n",
      "Epoch 18/50\n",
      "0s - loss: 0.0219 - acc: 0.9923 - val_loss: 0.2496 - val_acc: 0.9246\n",
      "Epoch 19/50\n",
      "0s - loss: 0.0236 - acc: 0.9933 - val_loss: 0.2112 - val_acc: 0.9333\n",
      "Epoch 20/50\n",
      "0s - loss: 0.0192 - acc: 0.9908 - val_loss: 0.2149 - val_acc: 0.9246\n",
      "Epoch 21/50\n",
      "0s - loss: 0.0231 - acc: 0.9918 - val_loss: 0.2017 - val_acc: 0.9362\n",
      "Epoch 22/50\n",
      "0s - loss: 0.0197 - acc: 0.9938 - val_loss: 0.2079 - val_acc: 0.9333\n",
      "Epoch 23/50\n",
      "0s - loss: 0.0324 - acc: 0.9882 - val_loss: 0.2277 - val_acc: 0.9333\n",
      "Epoch 24/50\n",
      "0s - loss: 0.0150 - acc: 0.9944 - val_loss: 0.2659 - val_acc: 0.9246\n",
      "Epoch 25/50\n",
      "0s - loss: 0.0165 - acc: 0.9938 - val_loss: 0.2315 - val_acc: 0.9420\n",
      "Epoch 26/50\n",
      "0s - loss: 0.0198 - acc: 0.9918 - val_loss: 0.2515 - val_acc: 0.9333\n",
      "Epoch 27/50\n",
      "0s - loss: 0.0166 - acc: 0.9944 - val_loss: 0.2534 - val_acc: 0.9304\n",
      "Epoch 28/50\n",
      "0s - loss: 0.0210 - acc: 0.9933 - val_loss: 0.2733 - val_acc: 0.9217\n",
      "Epoch 29/50\n",
      "0s - loss: 0.0195 - acc: 0.9933 - val_loss: 0.3690 - val_acc: 0.9246\n",
      "Epoch 30/50\n",
      "0s - loss: 0.0108 - acc: 0.9959 - val_loss: 0.2729 - val_acc: 0.9304\n",
      "Epoch 31/50\n",
      "0s - loss: 0.0151 - acc: 0.9933 - val_loss: 0.2608 - val_acc: 0.9333\n",
      "Epoch 32/50\n",
      "0s - loss: 0.0151 - acc: 0.9938 - val_loss: 0.2197 - val_acc: 0.9362\n",
      "Epoch 33/50\n",
      "0s - loss: 0.0248 - acc: 0.9928 - val_loss: 0.2133 - val_acc: 0.9449\n",
      "Epoch 34/50\n",
      "0s - loss: 0.0203 - acc: 0.9923 - val_loss: 0.2388 - val_acc: 0.9333\n",
      "Epoch 35/50\n",
      "0s - loss: 0.0220 - acc: 0.9923 - val_loss: 0.1917 - val_acc: 0.9449\n",
      "Epoch 36/50\n",
      "0s - loss: 0.0209 - acc: 0.9908 - val_loss: 0.2106 - val_acc: 0.9362\n",
      "Epoch 37/50\n",
      "0s - loss: 0.0228 - acc: 0.9918 - val_loss: 0.2565 - val_acc: 0.9275\n",
      "Epoch 38/50\n",
      "0s - loss: 0.0292 - acc: 0.9897 - val_loss: 0.2785 - val_acc: 0.9333\n",
      "Epoch 39/50\n",
      "0s - loss: 0.0196 - acc: 0.9928 - val_loss: 0.1958 - val_acc: 0.9449\n",
      "Epoch 40/50\n",
      "0s - loss: 0.0153 - acc: 0.9959 - val_loss: 0.2178 - val_acc: 0.9217\n",
      "Epoch 41/50\n",
      "0s - loss: 0.0176 - acc: 0.9938 - val_loss: 0.2230 - val_acc: 0.9304\n",
      "Epoch 42/50\n",
      "0s - loss: 0.0207 - acc: 0.9928 - val_loss: 0.2584 - val_acc: 0.9246\n",
      "Epoch 43/50\n",
      "0s - loss: 0.0100 - acc: 0.9969 - val_loss: 0.2752 - val_acc: 0.9246\n",
      "Epoch 44/50\n",
      "0s - loss: 0.0189 - acc: 0.9938 - val_loss: 0.2677 - val_acc: 0.9217\n",
      "Epoch 45/50\n",
      "0s - loss: 0.0143 - acc: 0.9944 - val_loss: 0.2913 - val_acc: 0.9304\n",
      "Epoch 46/50\n",
      "0s - loss: 0.0169 - acc: 0.9949 - val_loss: 0.2436 - val_acc: 0.9217\n",
      "Epoch 47/50\n",
      "0s - loss: 0.0141 - acc: 0.9959 - val_loss: 0.2457 - val_acc: 0.9333\n",
      "Epoch 48/50\n",
      "0s - loss: 0.0185 - acc: 0.9938 - val_loss: 0.2856 - val_acc: 0.9246\n",
      "Epoch 49/50\n",
      "0s - loss: 0.0142 - acc: 0.9944 - val_loss: 0.3000 - val_acc: 0.9246\n",
      "Epoch 50/50\n",
      "0s - loss: 0.0218 - acc: 0.9938 - val_loss: 0.3120 - val_acc: 0.9246\n"
     ]
    },
    {
     "data": {
      "text/plain": [
       "<keras.callbacks.History at 0x7ffadad798d0>"
      ]
     },
     "execution_count": 64,
     "metadata": {},
     "output_type": "execute_result"
    }
   ],
   "source": [
    "dense_model.fit(train_feat, y_train, batch_size=batch_size, \n",
    "                validation_data=(val_feat, y_val),\n",
    "                epochs=50, verbose=2)"
   ]
  },
  {
   "cell_type": "code",
   "execution_count": 52,
   "metadata": {
    "collapsed": false
   },
   "outputs": [
    {
     "name": "stdout",
     "output_type": "stream",
     "text": [
      "(1920, 1)\n",
      "(15360, 1)\n"
     ]
    }
   ],
   "source": [
    "y_train_da = np.concatenate([y_train]*8)\n",
    "print(y_train.shape)\n",
    "print(y_train_da.shape)"
   ]
  },
  {
   "cell_type": "code",
   "execution_count": 53,
   "metadata": {
    "collapsed": false
   },
   "outputs": [
    {
     "name": "stdout",
     "output_type": "stream",
     "text": [
      "Train on 15360 samples, validate on 320 samples\n",
      "Epoch 1/20\n",
      "3s - loss: 0.4335 - acc: 0.8275 - val_loss: 2.0344 - val_acc: 0.8250\n",
      "Epoch 2/20\n",
      "2s - loss: 0.2770 - acc: 0.8854 - val_loss: 2.9618 - val_acc: 0.7594\n",
      "Epoch 3/20\n",
      "2s - loss: 0.2355 - acc: 0.9029 - val_loss: 3.6947 - val_acc: 0.7375\n",
      "Epoch 4/20\n",
      "2s - loss: 0.2196 - acc: 0.9088 - val_loss: 3.4920 - val_acc: 0.7438\n",
      "Epoch 5/20\n",
      "2s - loss: 0.2015 - acc: 0.9156 - val_loss: 4.7506 - val_acc: 0.6937\n",
      "Epoch 6/20\n",
      "2s - loss: 0.1968 - acc: 0.9182 - val_loss: 4.1566 - val_acc: 0.7188\n",
      "Epoch 7/20\n",
      "2s - loss: 0.1873 - acc: 0.9236 - val_loss: 4.6893 - val_acc: 0.6906\n",
      "Epoch 8/20\n",
      "2s - loss: 0.1770 - acc: 0.9266 - val_loss: 4.7387 - val_acc: 0.6906\n",
      "Epoch 9/20\n",
      "2s - loss: 0.1673 - acc: 0.9315 - val_loss: 4.6118 - val_acc: 0.6937\n",
      "Epoch 10/20\n",
      "2s - loss: 0.1646 - acc: 0.9318 - val_loss: 4.6731 - val_acc: 0.7000\n",
      "Epoch 11/20\n",
      "2s - loss: 0.1546 - acc: 0.9363 - val_loss: 4.5431 - val_acc: 0.7000\n",
      "Epoch 12/20\n",
      "2s - loss: 0.1469 - acc: 0.9419 - val_loss: 4.5946 - val_acc: 0.6969\n",
      "Epoch 13/20\n",
      "2s - loss: 0.1538 - acc: 0.9380 - val_loss: 4.3475 - val_acc: 0.7188\n",
      "Epoch 14/20\n",
      "2s - loss: 0.1437 - acc: 0.9418 - val_loss: 4.6791 - val_acc: 0.7000\n",
      "Epoch 15/20\n",
      "2s - loss: 0.1411 - acc: 0.9439 - val_loss: 4.5711 - val_acc: 0.7094\n",
      "Epoch 16/20\n",
      "2s - loss: 0.1339 - acc: 0.9447 - val_loss: 4.7959 - val_acc: 0.6969\n",
      "Epoch 17/20\n",
      "2s - loss: 0.1361 - acc: 0.9456 - val_loss: 4.8885 - val_acc: 0.6906\n",
      "Epoch 18/20\n",
      "2s - loss: 0.1306 - acc: 0.9481 - val_loss: 4.8044 - val_acc: 0.6969\n",
      "Epoch 19/20\n",
      "2s - loss: 0.1348 - acc: 0.9439 - val_loss: 4.7747 - val_acc: 0.6937\n",
      "Epoch 20/20\n",
      "2s - loss: 0.1284 - acc: 0.9479 - val_loss: 4.8829 - val_acc: 0.6937\n"
     ]
    },
    {
     "data": {
      "text/plain": [
       "<keras.callbacks.History at 0x7fa349712f60>"
      ]
     },
     "execution_count": 53,
     "metadata": {},
     "output_type": "execute_result"
    }
   ],
   "source": [
    "model = get_model(train_feat.shape[1:])\n",
    "\n",
    "model.fit(train_feat, y_train_da, batch_size=batch_size, validation_data=(val_feat, y_val), epochs = 20, verbose=2)"
   ]
  },
  {
   "cell_type": "code",
   "execution_count": 41,
   "metadata": {
    "collapsed": false
   },
   "outputs": [
    {
     "name": "stdout",
     "output_type": "stream",
     "text": [
      "Train on 15360 samples, validate on 320 samples\n",
      "Epoch 1/50\n",
      "3s - loss: 0.1186 - acc: 0.9530 - val_loss: 0.3093 - val_acc: 0.8750\n",
      "Epoch 2/50\n",
      "2s - loss: 0.1270 - acc: 0.9470 - val_loss: 0.3046 - val_acc: 0.8906\n",
      "Epoch 3/50\n",
      "2s - loss: 0.1189 - acc: 0.9536 - val_loss: 0.2750 - val_acc: 0.8906\n",
      "Epoch 4/50\n",
      "2s - loss: 0.1239 - acc: 0.9516 - val_loss: 0.2809 - val_acc: 0.9000\n",
      "Epoch 5/50\n",
      "2s - loss: 0.1140 - acc: 0.9540 - val_loss: 0.3038 - val_acc: 0.8875\n",
      "Epoch 6/50\n",
      "2s - loss: 0.1139 - acc: 0.9544 - val_loss: 0.2951 - val_acc: 0.8812\n",
      "Epoch 7/50\n",
      "2s - loss: 0.1110 - acc: 0.9551 - val_loss: 0.3364 - val_acc: 0.8594\n",
      "Epoch 8/50\n",
      "2s - loss: 0.1141 - acc: 0.9548 - val_loss: 0.2855 - val_acc: 0.8812\n",
      "Epoch 9/50\n",
      "2s - loss: 0.1152 - acc: 0.9553 - val_loss: 0.3078 - val_acc: 0.9000\n",
      "Epoch 10/50\n",
      "2s - loss: 0.1052 - acc: 0.9585 - val_loss: 0.3077 - val_acc: 0.8844\n",
      "Epoch 11/50\n",
      "2s - loss: 0.1006 - acc: 0.9600 - val_loss: 0.3366 - val_acc: 0.8781\n",
      "Epoch 12/50\n",
      "2s - loss: 0.1073 - acc: 0.9568 - val_loss: 0.3699 - val_acc: 0.8656\n",
      "Epoch 13/50\n",
      "2s - loss: 0.1015 - acc: 0.9602 - val_loss: 0.2688 - val_acc: 0.9000\n",
      "Epoch 14/50\n",
      "2s - loss: 0.1023 - acc: 0.9608 - val_loss: 0.3209 - val_acc: 0.8875\n",
      "Epoch 15/50\n",
      "2s - loss: 0.0977 - acc: 0.9631 - val_loss: 0.3445 - val_acc: 0.8812\n",
      "Epoch 16/50\n",
      "2s - loss: 0.1022 - acc: 0.9604 - val_loss: 0.2562 - val_acc: 0.9000\n",
      "Epoch 17/50\n",
      "2s - loss: 0.0895 - acc: 0.9673 - val_loss: 0.2997 - val_acc: 0.8906\n",
      "Epoch 18/50\n",
      "2s - loss: 0.1001 - acc: 0.9597 - val_loss: 0.2922 - val_acc: 0.9000\n",
      "Epoch 19/50\n",
      "2s - loss: 0.1004 - acc: 0.9609 - val_loss: 0.3587 - val_acc: 0.8781\n",
      "Epoch 20/50\n",
      "2s - loss: 0.0940 - acc: 0.9628 - val_loss: 0.3181 - val_acc: 0.8938\n",
      "Epoch 21/50\n",
      "2s - loss: 0.0924 - acc: 0.9654 - val_loss: 0.3311 - val_acc: 0.8844\n",
      "Epoch 22/50\n",
      "2s - loss: 0.0860 - acc: 0.9663 - val_loss: 0.3162 - val_acc: 0.8906\n",
      "Epoch 23/50\n",
      "2s - loss: 0.0905 - acc: 0.9662 - val_loss: 0.3123 - val_acc: 0.9031\n",
      "Epoch 24/50\n",
      "2s - loss: 0.0906 - acc: 0.9663 - val_loss: 0.4414 - val_acc: 0.8688\n",
      "Epoch 25/50\n",
      "2s - loss: 0.0977 - acc: 0.9644 - val_loss: 0.3411 - val_acc: 0.8875\n",
      "Epoch 26/50\n",
      "2s - loss: 0.0913 - acc: 0.9642 - val_loss: 0.3106 - val_acc: 0.9125\n",
      "Epoch 27/50\n",
      "2s - loss: 0.0882 - acc: 0.9658 - val_loss: 0.3224 - val_acc: 0.9000\n",
      "Epoch 28/50\n",
      "2s - loss: 0.0899 - acc: 0.9660 - val_loss: 0.3361 - val_acc: 0.9031\n",
      "Epoch 29/50\n",
      "2s - loss: 0.0885 - acc: 0.9647 - val_loss: 0.4443 - val_acc: 0.8781\n",
      "Epoch 30/50\n",
      "2s - loss: 0.0853 - acc: 0.9685 - val_loss: 0.3233 - val_acc: 0.8844\n",
      "Epoch 31/50\n",
      "2s - loss: 0.0844 - acc: 0.9678 - val_loss: 0.3035 - val_acc: 0.8906\n",
      "Epoch 32/50\n",
      "2s - loss: 0.0845 - acc: 0.9673 - val_loss: 0.3044 - val_acc: 0.9094\n",
      "Epoch 33/50\n",
      "2s - loss: 0.0843 - acc: 0.9671 - val_loss: 0.3032 - val_acc: 0.8938\n",
      "Epoch 34/50\n",
      "2s - loss: 0.0817 - acc: 0.9681 - val_loss: 0.3049 - val_acc: 0.8969\n",
      "Epoch 35/50\n",
      "2s - loss: 0.0767 - acc: 0.9694 - val_loss: 0.3446 - val_acc: 0.8875\n",
      "Epoch 36/50\n",
      "2s - loss: 0.0755 - acc: 0.9722 - val_loss: 0.3197 - val_acc: 0.9062\n",
      "Epoch 37/50\n",
      "2s - loss: 0.0767 - acc: 0.9722 - val_loss: 0.3497 - val_acc: 0.8844\n",
      "Epoch 38/50\n",
      "2s - loss: 0.0764 - acc: 0.9708 - val_loss: 0.2903 - val_acc: 0.9125\n",
      "Epoch 39/50\n",
      "2s - loss: 0.0790 - acc: 0.9699 - val_loss: 0.4095 - val_acc: 0.8906\n",
      "Epoch 40/50\n",
      "2s - loss: 0.0743 - acc: 0.9709 - val_loss: 0.3643 - val_acc: 0.8906\n",
      "Epoch 41/50\n",
      "2s - loss: 0.0748 - acc: 0.9713 - val_loss: 0.3510 - val_acc: 0.8844\n",
      "Epoch 42/50\n",
      "2s - loss: 0.0732 - acc: 0.9733 - val_loss: 0.3747 - val_acc: 0.8906\n",
      "Epoch 43/50\n",
      "2s - loss: 0.0739 - acc: 0.9728 - val_loss: 0.3806 - val_acc: 0.8844\n",
      "Epoch 44/50\n",
      "2s - loss: 0.0751 - acc: 0.9724 - val_loss: 0.2919 - val_acc: 0.9062\n",
      "Epoch 45/50\n",
      "2s - loss: 0.0748 - acc: 0.9725 - val_loss: 0.3460 - val_acc: 0.9000\n",
      "Epoch 46/50\n",
      "2s - loss: 0.0740 - acc: 0.9719 - val_loss: 0.3257 - val_acc: 0.8938\n",
      "Epoch 47/50\n",
      "2s - loss: 0.0766 - acc: 0.9713 - val_loss: 0.2977 - val_acc: 0.8969\n",
      "Epoch 48/50\n",
      "2s - loss: 0.0673 - acc: 0.9755 - val_loss: 0.3519 - val_acc: 0.9031\n",
      "Epoch 49/50\n",
      "2s - loss: 0.0695 - acc: 0.9726 - val_loss: 0.3883 - val_acc: 0.8750\n",
      "Epoch 50/50\n",
      "2s - loss: 0.0664 - acc: 0.9757 - val_loss: 0.3758 - val_acc: 0.8812\n"
     ]
    },
    {
     "data": {
      "text/plain": [
       "<keras.callbacks.History at 0x7fa34ad206a0>"
      ]
     },
     "execution_count": 41,
     "metadata": {},
     "output_type": "execute_result"
    }
   ],
   "source": [
    "model.optimizer.lr = 0.00001\n",
    "model.fit(train_feat, y_train_da, batch_size=batch_size, validation_data=(val_feat, y_val), epochs = 50, verbose=2)"
   ]
  },
  {
   "cell_type": "code",
   "execution_count": null,
   "metadata": {
    "collapsed": true
   },
   "outputs": [],
   "source": []
  }
 ],
 "metadata": {
  "kernelspec": {
   "display_name": "Python 3",
   "language": "python",
   "name": "python3"
  },
  "language_info": {
   "codemirror_mode": {
    "name": "ipython",
    "version": 3
   },
   "file_extension": ".py",
   "mimetype": "text/x-python",
   "name": "python",
   "nbconvert_exporter": "python",
   "pygments_lexer": "ipython3",
   "version": "3.6.0"
  }
 },
 "nbformat": 4,
 "nbformat_minor": 2
}
