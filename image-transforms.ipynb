{
 "cells": [
  {
   "cell_type": "code",
   "execution_count": 1,
   "metadata": {
    "collapsed": true
   },
   "outputs": [],
   "source": [
    "from PIL import Image\n",
    "from torchvision import transforms\n",
    "\n",
    "def pil_load(img_path):\n",
    "    with open(img_path, 'rb') as f:\n",
    "        with Image.open(f) as img:\n",
    "            return img.convert('RGB')"
   ]
  },
  {
   "cell_type": "code",
   "execution_count": 2,
   "metadata": {
    "collapsed": true
   },
   "outputs": [],
   "source": [
    "img = pil_load('C:\\\\Users\\\\caitsithx\\\\dl_data\\\\invasive-species-monitoring\\\\train\\\\1.jpg')"
   ]
  },
  {
   "cell_type": "code",
   "execution_count": 15,
   "metadata": {
    "collapsed": true
   },
   "outputs": [],
   "source": [
    "img1 = transforms.Scale(325).__call__(img)\n",
    "img1.save('C:\\\\Users\\\\caitsithx\\\\dl_data\\\\invasive-species-monitoring\\\\1-rescale360.jpg')"
   ]
  },
  {
   "cell_type": "code",
   "execution_count": 24,
   "metadata": {},
   "outputs": [],
   "source": [
    "import random\n",
    "\n",
    "def randomMaxScreen(img, size):\n",
    "    if img.size[0] == img.size[1]:\n",
    "        return transforms.Scale(size).__call__(img)\n",
    "    elif img.size[0] > img.size[1]:\n",
    "        x1 = random.randint(0, img.size[0] - img.size[1])\n",
    "        y1 = 0\n",
    "        img1 = img.crop((x1, y1, x1 + img.size[1], y1 + img.size[1]))\n",
    "        return transforms.Scale(size).__call__(img1)\n",
    "    elif img.size[0] < img.size[1]:\n",
    "        x1 = 0\n",
    "        y1 = random.randint(0, img.size[1] - img.size[0])\n",
    "        img1 = img.crop((x1, y1, x1 + img.size[0], y1 + img.size[0]))\n",
    "        return transforms.Scale(size).__call__(img1)\n",
    "\n",
    "\n",
    "img2 = randomMaxScreen(img, 318)\n",
    "img2.save('C:\\\\Users\\\\caitsithx\\\\dl_data\\\\invasive-species-monitoring\\\\1-randomMaxScreen.jpg')"
   ]
  },
  {
   "cell_type": "code",
   "execution_count": 25,
   "metadata": {},
   "outputs": [],
   "source": [
    "import random\n",
    "\n",
    "def randomRotate(img):\n",
    "    d = random.uniform(0, 360)\n",
    "    img2 = img.rotate(d, resample=Image.NEAREST)\n",
    "    return img2\n",
    "\n",
    "img3= randomRotate(img2)\n",
    "img3.save('C:\\\\Users\\\\caitsithx\\\\dl_data\\\\invasive-species-monitoring\\\\1-randomRotate.jpg')"
   ]
  },
  {
   "cell_type": "code",
   "execution_count": 26,
   "metadata": {
    "collapsed": true
   },
   "outputs": [],
   "source": [
    "img4= transforms.CenterCrop(224).__call__(img3)\n",
    "img4.save('C:\\\\Users\\\\caitsithx\\\\dl_data\\\\invasive-species-monitoring\\\\1-CenterCrop224.jpg')"
   ]
  },
  {
   "cell_type": "code",
   "execution_count": null,
   "metadata": {
    "collapsed": true
   },
   "outputs": [],
   "source": []
  }
 ],
 "metadata": {
  "kernelspec": {
   "display_name": "Python 3",
   "language": "python",
   "name": "python3"
  },
  "language_info": {
   "codemirror_mode": {
    "name": "ipython",
    "version": 3
   },
   "file_extension": ".py",
   "mimetype": "text/x-python",
   "name": "python",
   "nbconvert_exporter": "python",
   "pygments_lexer": "ipython3",
   "version": "3.6.1"
  }
 },
 "nbformat": 4,
 "nbformat_minor": 2
}
