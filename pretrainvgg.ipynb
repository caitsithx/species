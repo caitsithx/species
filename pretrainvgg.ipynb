{
 "cells": [
  {
   "cell_type": "code",
   "execution_count": 1,
   "metadata": {
    "collapsed": false
   },
   "outputs": [],
   "source": [
    "import matplotlib.pyplot as plt\n",
    "%matplotlib inline\n",
    "import numpy as np\n",
    "import pandas as pd\n",
    "import cv2\n",
    "import math\n",
    "from glob import glob\n",
    "import os\n",
    "\n"
   ]
  },
  {
   "cell_type": "code",
   "execution_count": 2,
   "metadata": {
    "collapsed": true
   },
   "outputs": [],
   "source": [
    "DATA_DIR = '/home/chicm/ml/kgdata/species'\n",
    "TRAIN_DIR = DATA_DIR + '/train'\n",
    "RESULT_DIR = DATA_DIR + '/results'\n",
    "\n",
    "TRAIN_FEAT = RESULT_DIR + '/train_feats.dat'\n",
    "VAL_FEAT = RESULT_DIR + '/val_feats.dat'\n",
    "\n",
    "\n",
    "#VAL_DIR = DATA_DIR + '/val-224'\n",
    "\n",
    "batch_size = 64"
   ]
  },
  {
   "cell_type": "code",
   "execution_count": 3,
   "metadata": {
    "collapsed": false
   },
   "outputs": [
    {
     "data": {
      "text/html": [
       "<div>\n",
       "<table border=\"1\" class=\"dataframe\">\n",
       "  <thead>\n",
       "    <tr style=\"text-align: right;\">\n",
       "      <th></th>\n",
       "      <th>name</th>\n",
       "      <th>invasive</th>\n",
       "    </tr>\n",
       "  </thead>\n",
       "  <tbody>\n",
       "    <tr>\n",
       "      <th>0</th>\n",
       "      <td>1</td>\n",
       "      <td>0</td>\n",
       "    </tr>\n",
       "    <tr>\n",
       "      <th>1</th>\n",
       "      <td>2</td>\n",
       "      <td>0</td>\n",
       "    </tr>\n",
       "    <tr>\n",
       "      <th>2</th>\n",
       "      <td>3</td>\n",
       "      <td>1</td>\n",
       "    </tr>\n",
       "    <tr>\n",
       "      <th>3</th>\n",
       "      <td>4</td>\n",
       "      <td>0</td>\n",
       "    </tr>\n",
       "    <tr>\n",
       "      <th>4</th>\n",
       "      <td>5</td>\n",
       "      <td>1</td>\n",
       "    </tr>\n",
       "  </tbody>\n",
       "</table>\n",
       "</div>"
      ],
      "text/plain": [
       "   name  invasive\n",
       "0     1         0\n",
       "1     2         0\n",
       "2     3         1\n",
       "3     4         0\n",
       "4     5         1"
      ]
     },
     "execution_count": 3,
     "metadata": {},
     "output_type": "execute_result"
    }
   ],
   "source": [
    "df_train = pd.read_csv(DATA_DIR+'/train_labels.csv')\n",
    "master = df_train\n",
    "master.head()"
   ]
  },
  {
   "cell_type": "code",
   "execution_count": 4,
   "metadata": {
    "collapsed": true
   },
   "outputs": [],
   "source": [
    "img_path = TRAIN_DIR+'/'"
   ]
  },
  {
   "cell_type": "code",
   "execution_count": 5,
   "metadata": {
    "collapsed": false
   },
   "outputs": [
    {
     "name": "stdout",
     "output_type": "stream",
     "text": [
      "(2295,)\n"
     ]
    }
   ],
   "source": [
    "y = []\n",
    "file_paths = []\n",
    "for i in range(len(master)):\n",
    "    file_paths.append( TRAIN_DIR + '/' + str(master.ix[i][0]) +'.jpg' )\n",
    "    y.append(master.ix[i][1])\n",
    "y = np.array(y)\n",
    "print(y.shape)"
   ]
  },
  {
   "cell_type": "code",
   "execution_count": 6,
   "metadata": {
    "collapsed": false
   },
   "outputs": [
    {
     "name": "stdout",
     "output_type": "stream",
     "text": [
      "['/home/chicm/ml/kgdata/species/train/1.jpg', '/home/chicm/ml/kgdata/species/train/2.jpg', '/home/chicm/ml/kgdata/species/train/3.jpg', '/home/chicm/ml/kgdata/species/train/4.jpg', '/home/chicm/ml/kgdata/species/train/5.jpg']\n"
     ]
    }
   ],
   "source": [
    "print(file_paths[:5])"
   ]
  },
  {
   "cell_type": "code",
   "execution_count": 7,
   "metadata": {
    "collapsed": false
   },
   "outputs": [
    {
     "name": "stdout",
     "output_type": "stream",
     "text": [
      "(2295, 224, 224, 3)\n"
     ]
    }
   ],
   "source": [
    "#image reseize & centering & crop \n",
    "\n",
    "def centering_image(img):\n",
    "    size = [256,256]\n",
    "    \n",
    "    img_size = img.shape[:2]\n",
    "    \n",
    "    # centering\n",
    "    row = (size[1] - img_size[0]) // 2\n",
    "    col = (size[0] - img_size[1]) // 2\n",
    "    resized = np.zeros(list(size) + [img.shape[2]], dtype=np.uint8)\n",
    "    resized[row:(row + img.shape[0]), col:(col + img.shape[1])] = img\n",
    "\n",
    "    return resized\n",
    "\n",
    "\n",
    "x = []\n",
    "for i, file_path in enumerate(file_paths):\n",
    "    #read image\n",
    "    img = cv2.imread(file_path)\n",
    "    img = cv2.cvtColor(img, cv2.COLOR_BGR2RGB)\n",
    "\n",
    "    #resize\n",
    "    if(img.shape[0] > img.shape[1]):\n",
    "        tile_size = (int(img.shape[1]*256/img.shape[0]),256)\n",
    "    else:\n",
    "        tile_size = (256, int(img.shape[0]*256/img.shape[1]))\n",
    "\n",
    "    #centering\n",
    "    img = centering_image(cv2.resize(img, dsize=tile_size))\n",
    "    \n",
    "    #out put 224*224px \n",
    "    img = img[16:240, 16:240]\n",
    "    x.append(img)\n",
    "\n",
    "x = np.array(x)\n",
    "print(x.shape)\n"
   ]
  },
  {
   "cell_type": "code",
   "execution_count": 8,
   "metadata": {
    "collapsed": false
   },
   "outputs": [
    {
     "name": "stdout",
     "output_type": "stream",
     "text": [
      "(1531,)\n"
     ]
    }
   ],
   "source": [
    "sample_submission = pd.read_csv(DATA_DIR+\"/sample_submission.csv\")\n",
    "img_path = DATA_DIR+\"/test/\"\n",
    "\n",
    "test_names = []\n",
    "file_paths = []\n",
    "\n",
    "for i in range(len(sample_submission)):\n",
    "    test_names.append(sample_submission.ix[i][0])\n",
    "    file_paths.append( img_path + str(int(sample_submission.ix[i][0])) +'.jpg' )\n",
    "    \n",
    "test_names = np.array(test_names)\n",
    "print(test_names.shape)"
   ]
  },
  {
   "cell_type": "code",
   "execution_count": 9,
   "metadata": {
    "collapsed": true
   },
   "outputs": [],
   "source": [
    "test_images = []\n",
    "for file_path in file_paths:\n",
    "    #read image\n",
    "    img = cv2.imread(file_path)\n",
    "    img = cv2.cvtColor(img, cv2.COLOR_BGR2RGB)\n",
    "\n",
    "    #resize\n",
    "    if(img.shape[0] > img.shape[1]):\n",
    "        tile_size = (int(img.shape[1]*256/img.shape[0]),256)\n",
    "    else:\n",
    "        tile_size = (256, int(img.shape[0]*256/img.shape[1]))\n",
    "\n",
    "    #centering\n",
    "    img = centering_image(cv2.resize(img, dsize=tile_size))\n",
    "    \n",
    "    #out put 224*224px \n",
    "    img = img[16:240, 16:240]\n",
    "    test_images.append(img)\n",
    "    \n",
    "    path, ext = os.path.splitext( os.path.basename(file_paths[0]) )\n",
    "\n",
    "test_images = np.array(test_images)"
   ]
  },
  {
   "cell_type": "markdown",
   "metadata": {},
   "source": [
    "## split train and val"
   ]
  },
  {
   "cell_type": "code",
   "execution_count": 10,
   "metadata": {
    "collapsed": true
   },
   "outputs": [],
   "source": [
    "data_num = len(y)\n",
    "random_index = np.random.permutation(data_num)\n",
    "\n",
    "x_shuffle = []\n",
    "y_shuffle = []\n",
    "for i in range(data_num):\n",
    "    x_shuffle.append(x[random_index[i]])\n",
    "    y_shuffle.append(y[random_index[i]])\n",
    "    \n",
    "x = np.array(x_shuffle) \n",
    "y = np.array(y_shuffle)"
   ]
  },
  {
   "cell_type": "code",
   "execution_count": 11,
   "metadata": {
    "collapsed": false
   },
   "outputs": [
    {
     "name": "stdout",
     "output_type": "stream",
     "text": [
      "x_train (1836, 224, 224, 3)\n",
      "y_train (1836,)\n",
      "x_test (459, 224, 224, 3)\n",
      "y_test (459,)\n"
     ]
    }
   ],
   "source": [
    "val_split_num = int(round(0.2*len(y)))\n",
    "x_train = x[val_split_num:]\n",
    "y_train = y[val_split_num:]\n",
    "x_test = x[:val_split_num]\n",
    "y_test = y[:val_split_num]\n",
    "\n",
    "print('x_train', x_train.shape)\n",
    "print('y_train', y_train.shape)\n",
    "print('x_test', x_test.shape)\n",
    "print('y_test', y_test.shape)"
   ]
  },
  {
   "cell_type": "code",
   "execution_count": 12,
   "metadata": {
    "collapsed": true
   },
   "outputs": [],
   "source": [
    "x_train = x_train.astype('float32')\n",
    "x_test = x_test.astype('float32')\n",
    "x_train /= 255\n",
    "x_test /= 255"
   ]
  },
  {
   "cell_type": "markdown",
   "metadata": {},
   "source": [
    "## Use VGG"
   ]
  },
  {
   "cell_type": "code",
   "execution_count": 13,
   "metadata": {
    "collapsed": false
   },
   "outputs": [
    {
     "name": "stderr",
     "output_type": "stream",
     "text": [
      "Using TensorFlow backend.\n"
     ]
    }
   ],
   "source": [
    "from keras.models import Sequential, Model, load_model\n",
    "from keras import applications\n",
    "from keras import optimizers\n",
    "from keras.layers import Dropout, Flatten, Dense\n",
    "\n",
    "img_rows, img_cols, img_channel = 224, 224, 3\n",
    "\n",
    "base_model = applications.VGG16(weights='imagenet', include_top=False, input_shape=(img_rows, img_cols, img_channel))"
   ]
  },
  {
   "cell_type": "code",
   "execution_count": 14,
   "metadata": {
    "collapsed": false
   },
   "outputs": [
    {
     "name": "stdout",
     "output_type": "stream",
     "text": [
      "_________________________________________________________________\n",
      "Layer (type)                 Output Shape              Param #   \n",
      "=================================================================\n",
      "input_1 (InputLayer)         (None, 224, 224, 3)       0         \n",
      "_________________________________________________________________\n",
      "block1_conv1 (Conv2D)        (None, 224, 224, 64)      1792      \n",
      "_________________________________________________________________\n",
      "block1_conv2 (Conv2D)        (None, 224, 224, 64)      36928     \n",
      "_________________________________________________________________\n",
      "block1_pool (MaxPooling2D)   (None, 112, 112, 64)      0         \n",
      "_________________________________________________________________\n",
      "block2_conv1 (Conv2D)        (None, 112, 112, 128)     73856     \n",
      "_________________________________________________________________\n",
      "block2_conv2 (Conv2D)        (None, 112, 112, 128)     147584    \n",
      "_________________________________________________________________\n",
      "block2_pool (MaxPooling2D)   (None, 56, 56, 128)       0         \n",
      "_________________________________________________________________\n",
      "block3_conv1 (Conv2D)        (None, 56, 56, 256)       295168    \n",
      "_________________________________________________________________\n",
      "block3_conv2 (Conv2D)        (None, 56, 56, 256)       590080    \n",
      "_________________________________________________________________\n",
      "block3_conv3 (Conv2D)        (None, 56, 56, 256)       590080    \n",
      "_________________________________________________________________\n",
      "block3_pool (MaxPooling2D)   (None, 28, 28, 256)       0         \n",
      "_________________________________________________________________\n",
      "block4_conv1 (Conv2D)        (None, 28, 28, 512)       1180160   \n",
      "_________________________________________________________________\n",
      "block4_conv2 (Conv2D)        (None, 28, 28, 512)       2359808   \n",
      "_________________________________________________________________\n",
      "block4_conv3 (Conv2D)        (None, 28, 28, 512)       2359808   \n",
      "_________________________________________________________________\n",
      "block4_pool (MaxPooling2D)   (None, 14, 14, 512)       0         \n",
      "_________________________________________________________________\n",
      "block5_conv1 (Conv2D)        (None, 14, 14, 512)       2359808   \n",
      "_________________________________________________________________\n",
      "block5_conv2 (Conv2D)        (None, 14, 14, 512)       2359808   \n",
      "_________________________________________________________________\n",
      "block5_conv3 (Conv2D)        (None, 14, 14, 512)       2359808   \n",
      "_________________________________________________________________\n",
      "block5_pool (MaxPooling2D)   (None, 7, 7, 512)         0         \n",
      "_________________________________________________________________\n",
      "sequential_1 (Sequential)    (None, 1)                 6423041   \n",
      "=================================================================\n",
      "Total params: 21,137,729.0\n",
      "Trainable params: 21,137,729.0\n",
      "Non-trainable params: 0.0\n",
      "_________________________________________________________________\n"
     ]
    }
   ],
   "source": [
    "add_model = Sequential()\n",
    "add_model.add(Flatten(input_shape=base_model.output_shape[1:]))\n",
    "add_model.add(Dense(256, activation='relu'))\n",
    "add_model.add(Dense(1, activation='sigmoid'))\n",
    "\n",
    "model = Model(inputs=base_model.input, outputs=add_model(base_model.output))\n",
    "model.compile(loss='binary_crossentropy', optimizer=optimizers.SGD(lr=1e-4, momentum=0.9),\n",
    "              metrics=['accuracy'])\n",
    "\n",
    "model.summary()"
   ]
  },
  {
   "cell_type": "code",
   "execution_count": 16,
   "metadata": {
    "collapsed": false
   },
   "outputs": [
    {
     "name": "stdout",
     "output_type": "stream",
     "text": [
      "Epoch 1/50\n",
      "23s - loss: 0.3204 - acc: 0.8646 - val_loss: 0.2383 - val_acc: 0.9041\n",
      "Epoch 2/50\n",
      "24s - loss: 0.2244 - acc: 0.9062 - val_loss: 0.1825 - val_acc: 0.9325\n",
      "Epoch 3/50\n",
      "23s - loss: 0.1891 - acc: 0.9319 - val_loss: 0.1829 - val_acc: 0.9325\n",
      "Epoch 4/50\n",
      "23s - loss: 0.1731 - acc: 0.9260 - val_loss: 0.2005 - val_acc: 0.9172\n",
      "Epoch 5/50\n",
      "23s - loss: 0.1441 - acc: 0.9410 - val_loss: 0.1600 - val_acc: 0.9368\n",
      "Epoch 6/50\n",
      "23s - loss: 0.1306 - acc: 0.9496 - val_loss: 0.1244 - val_acc: 0.9521\n",
      "Epoch 7/50\n",
      "23s - loss: 0.1447 - acc: 0.9435 - val_loss: 0.1053 - val_acc: 0.9586\n",
      "Epoch 8/50\n",
      "23s - loss: 0.1161 - acc: 0.9613 - val_loss: 0.1267 - val_acc: 0.9564\n",
      "Epoch 9/50\n",
      "23s - loss: 0.1039 - acc: 0.9605 - val_loss: 0.0998 - val_acc: 0.9651\n",
      "Epoch 10/50\n",
      "23s - loss: 0.0972 - acc: 0.9660 - val_loss: 0.1166 - val_acc: 0.9630\n",
      "Epoch 11/50\n",
      "23s - loss: 0.1062 - acc: 0.9635 - val_loss: 0.1130 - val_acc: 0.9630\n",
      "Epoch 12/50\n",
      "23s - loss: 0.0905 - acc: 0.9682 - val_loss: 0.0814 - val_acc: 0.9651\n",
      "Epoch 13/50\n",
      "23s - loss: 0.0852 - acc: 0.9709 - val_loss: 0.0772 - val_acc: 0.9739\n",
      "Epoch 14/50\n",
      "23s - loss: 0.0856 - acc: 0.9693 - val_loss: 0.0740 - val_acc: 0.9717\n",
      "Epoch 15/50\n",
      "23s - loss: 0.0669 - acc: 0.9739 - val_loss: 0.0876 - val_acc: 0.9673\n",
      "Epoch 16/50\n",
      "23s - loss: 0.0776 - acc: 0.9698 - val_loss: 0.0853 - val_acc: 0.9695\n",
      "Epoch 17/50\n",
      "23s - loss: 0.0811 - acc: 0.9677 - val_loss: 0.0741 - val_acc: 0.9782\n",
      "Epoch 18/50\n",
      "23s - loss: 0.0855 - acc: 0.9687 - val_loss: 0.0707 - val_acc: 0.9673\n",
      "Epoch 19/50\n",
      "23s - loss: 0.0626 - acc: 0.9766 - val_loss: 0.0806 - val_acc: 0.9739\n",
      "Epoch 20/50\n",
      "23s - loss: 0.0565 - acc: 0.9759 - val_loss: 0.0705 - val_acc: 0.9760\n",
      "Epoch 21/50\n",
      "23s - loss: 0.0627 - acc: 0.9748 - val_loss: 0.0802 - val_acc: 0.9739\n",
      "Epoch 22/50\n",
      "23s - loss: 0.0521 - acc: 0.9803 - val_loss: 0.0664 - val_acc: 0.9804\n",
      "Epoch 23/50\n",
      "23s - loss: 0.0497 - acc: 0.9814 - val_loss: 0.0596 - val_acc: 0.9804\n",
      "Epoch 24/50\n",
      "23s - loss: 0.0481 - acc: 0.9821 - val_loss: 0.0602 - val_acc: 0.9782\n",
      "Epoch 25/50\n",
      "23s - loss: 0.0430 - acc: 0.9825 - val_loss: 0.0683 - val_acc: 0.9782\n",
      "Epoch 26/50\n",
      "23s - loss: 0.0502 - acc: 0.9819 - val_loss: 0.0667 - val_acc: 0.9739\n",
      "Epoch 27/50\n",
      "23s - loss: 0.0420 - acc: 0.9835 - val_loss: 0.0607 - val_acc: 0.9782\n",
      "Epoch 28/50\n",
      "23s - loss: 0.0412 - acc: 0.9852 - val_loss: 0.0864 - val_acc: 0.9760\n",
      "Epoch 29/50\n",
      "23s - loss: 0.0407 - acc: 0.9863 - val_loss: 0.0773 - val_acc: 0.9717\n",
      "Epoch 30/50\n",
      "23s - loss: 0.0504 - acc: 0.9816 - val_loss: 0.0667 - val_acc: 0.9804\n",
      "Epoch 31/50\n",
      "23s - loss: 0.0442 - acc: 0.9846 - val_loss: 0.0605 - val_acc: 0.9804\n",
      "Epoch 32/50\n",
      "23s - loss: 0.0356 - acc: 0.9868 - val_loss: 0.1279 - val_acc: 0.9630\n",
      "Epoch 33/50\n",
      "23s - loss: 0.0359 - acc: 0.9863 - val_loss: 0.1197 - val_acc: 0.9608\n",
      "Epoch 34/50\n",
      "23s - loss: 0.0341 - acc: 0.9901 - val_loss: 0.0610 - val_acc: 0.9826\n",
      "Epoch 35/50\n",
      "23s - loss: 0.0287 - acc: 0.9901 - val_loss: 0.0586 - val_acc: 0.9804\n",
      "Epoch 36/50\n",
      "23s - loss: 0.0227 - acc: 0.9929 - val_loss: 0.0590 - val_acc: 0.9826\n",
      "Epoch 37/50\n",
      "23s - loss: 0.0257 - acc: 0.9896 - val_loss: 0.0677 - val_acc: 0.9739\n",
      "Epoch 38/50\n",
      "24s - loss: 0.0241 - acc: 0.9914 - val_loss: 0.0688 - val_acc: 0.9782\n",
      "Epoch 39/50\n",
      "24s - loss: 0.0222 - acc: 0.9912 - val_loss: 0.0662 - val_acc: 0.9760\n",
      "Epoch 40/50\n",
      "24s - loss: 0.0370 - acc: 0.9868 - val_loss: 0.0618 - val_acc: 0.9847\n",
      "Epoch 41/50\n",
      "24s - loss: 0.0207 - acc: 0.9934 - val_loss: 0.0547 - val_acc: 0.9869\n",
      "Epoch 42/50\n",
      "24s - loss: 0.0196 - acc: 0.9951 - val_loss: 0.0632 - val_acc: 0.9782\n",
      "Epoch 43/50\n",
      "24s - loss: 0.0195 - acc: 0.9918 - val_loss: 0.0636 - val_acc: 0.9760\n",
      "Epoch 44/50\n",
      "24s - loss: 0.0201 - acc: 0.9945 - val_loss: 0.0936 - val_acc: 0.9760\n",
      "Epoch 45/50\n",
      "23s - loss: 0.0244 - acc: 0.9901 - val_loss: 0.0757 - val_acc: 0.9760\n",
      "Epoch 46/50\n",
      "24s - loss: 0.0228 - acc: 0.9907 - val_loss: 0.0652 - val_acc: 0.9804\n",
      "Epoch 47/50\n",
      "24s - loss: 0.0171 - acc: 0.9940 - val_loss: 0.1122 - val_acc: 0.9630\n",
      "Epoch 48/50\n",
      "24s - loss: 0.0195 - acc: 0.9907 - val_loss: 0.0597 - val_acc: 0.9782\n",
      "Epoch 49/50\n",
      "24s - loss: 0.0152 - acc: 0.9951 - val_loss: 0.0720 - val_acc: 0.9804\n",
      "Epoch 50/50\n",
      "24s - loss: 0.0316 - acc: 0.9912 - val_loss: 0.0580 - val_acc: 0.9826\n"
     ]
    }
   ],
   "source": [
    "from keras.preprocessing.image import ImageDataGenerator\n",
    "from keras.callbacks import ModelCheckpoint\n",
    "\n",
    "batch_size = 32\n",
    "epochs = 50\n",
    "\n",
    "train_datagen = ImageDataGenerator(\n",
    "        rotation_range=30, \n",
    "        width_shift_range=0.1,\n",
    "        height_shift_range=0.1, \n",
    "        horizontal_flip=True)\n",
    "train_datagen.fit(x_train)\n",
    "\n",
    "\n",
    "history = model.fit_generator(\n",
    "    train_datagen.flow(x_train, y_train, batch_size=batch_size),\n",
    "    steps_per_epoch=x_train.shape[0] // batch_size,\n",
    "    epochs=epochs,\n",
    "    validation_data=(x_test, y_test), verbose=2,\n",
    "    callbacks=[ModelCheckpoint('VGG16-transferlearning.model', monitor='val_acc', save_best_only=True)]\n",
    ")"
   ]
  },
  {
   "cell_type": "code",
   "execution_count": 17,
   "metadata": {
    "collapsed": true
   },
   "outputs": [],
   "source": [
    "test_images = test_images.astype('float32')\n",
    "test_images /= 255"
   ]
  },
  {
   "cell_type": "code",
   "execution_count": 18,
   "metadata": {
    "collapsed": true
   },
   "outputs": [],
   "source": [
    "model.load_weights('VGG16-transferlearning.model')\n",
    "predictions = model.predict(test_images)"
   ]
  },
  {
   "cell_type": "code",
   "execution_count": 19,
   "metadata": {
    "collapsed": true
   },
   "outputs": [],
   "source": [
    "sample_submission = pd.read_csv(DATA_DIR+\"/sample_submission.csv\")\n",
    "\n",
    "for i, name in enumerate(test_names):\n",
    "    sample_submission.loc[sample_submission['name'] == name, 'invasive'] = predictions[i]\n",
    "\n",
    "sample_submission.to_csv(\"submit1.csv\", index=False)"
   ]
  },
  {
   "cell_type": "code",
   "execution_count": null,
   "metadata": {
    "collapsed": true
   },
   "outputs": [],
   "source": []
  }
 ],
 "metadata": {
  "kernelspec": {
   "display_name": "Python 3",
   "language": "python",
   "name": "python3"
  },
  "language_info": {
   "codemirror_mode": {
    "name": "ipython",
    "version": 3
   },
   "file_extension": ".py",
   "mimetype": "text/x-python",
   "name": "python",
   "nbconvert_exporter": "python",
   "pygments_lexer": "ipython3",
   "version": "3.6.0"
  }
 },
 "nbformat": 4,
 "nbformat_minor": 2
}
